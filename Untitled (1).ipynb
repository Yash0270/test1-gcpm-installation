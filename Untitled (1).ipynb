{
 "cells": [
  {
   "cell_type": "code",
   "execution_count": 5,
   "id": "3442c8df",
   "metadata": {},
   "outputs": [
    {
     "name": "stdout",
     "output_type": "stream",
     "text": [
      "Collecting package metadata (current_repodata.json): done\n",
      "Solving environment: done\n",
      "\n",
      "## Package Plan ##\n",
      "\n",
      "  environment location: /opt/homebrew/anaconda3\n",
      "\n",
      "  added / updated specs:\n",
      "    - pydicom\n",
      "\n",
      "\n",
      "The following packages will be downloaded:\n",
      "\n",
      "    package                    |            build\n",
      "    ---------------------------|-----------------\n",
      "    conda-23.1.0               |   py39hca03da5_0         948 KB\n",
      "    pydicom-2.3.1              |     pyh1a96a4e_0         1.4 MB  conda-forge\n",
      "    ruamel.yaml-0.17.21        |   py39h1a28f6b_0         178 KB\n",
      "    ruamel.yaml.clib-0.2.6     |   py39h1a28f6b_1         116 KB\n",
      "    ------------------------------------------------------------\n",
      "                                           Total:         2.6 MB\n",
      "\n",
      "The following NEW packages will be INSTALLED:\n",
      "\n",
      "  pydicom            conda-forge/noarch::pydicom-2.3.1-pyh1a96a4e_0\n",
      "  ruamel.yaml        pkgs/main/osx-arm64::ruamel.yaml-0.17.21-py39h1a28f6b_0\n",
      "  ruamel.yaml.clib   pkgs/main/osx-arm64::ruamel.yaml.clib-0.2.6-py39h1a28f6b_1\n",
      "\n",
      "The following packages will be UPDATED:\n",
      "\n",
      "  conda                               4.13.0-py39hca03da5_0 --> 23.1.0-py39hca03da5_0\n",
      "\n",
      "\n",
      "\n",
      "Downloading and Extracting Packages\n",
      "ruamel.yaml.clib-0.2 | 116 KB    | ##################################### | 100% \n",
      "ruamel.yaml-0.17.21  | 178 KB    | ##################################### | 100% \n",
      "conda-23.1.0         | 948 KB    | ##################################### | 100% \n",
      "pydicom-2.3.1        | 1.4 MB    | ##################################### | 100% \n",
      "Preparing transaction: done\n",
      "Verifying transaction: | WARNING conda.core.path_actions:verify(958): Unable to create environments file. Path not writable.\n",
      "  environment location: /Users/yes/.conda/environments.txt\n",
      "\n",
      "done\n",
      "Executing transaction: done\n"
     ]
    }
   ],
   "source": [
    "!conda install pydicom --channel conda-forge -y"
   ]
  },
  {
   "cell_type": "code",
   "execution_count": 21,
   "id": "60e9bd8b",
   "metadata": {},
   "outputs": [
    {
     "name": "stdout",
     "output_type": "stream",
     "text": [
      "Collecting package metadata (current_repodata.json): done\n",
      "Solving environment: failed with initial frozen solve. Retrying with flexible solve.\n",
      "Collecting package metadata (repodata.json): done\n",
      "Solving environment: failed with initial frozen solve. Retrying with flexible solve.\n",
      "\n",
      "PackagesNotFoundError: The following packages are not available from current channels:\n",
      "\n",
      "  - gdcm\n",
      "\n",
      "Current channels:\n",
      "\n",
      "  - https://conda.anaconda.org/conda-forge/osx-arm64\n",
      "  - https://conda.anaconda.org/conda-forge/noarch\n",
      "  - https://repo.anaconda.com/pkgs/main/osx-arm64\n",
      "  - https://repo.anaconda.com/pkgs/main/noarch\n",
      "  - https://repo.anaconda.com/pkgs/r/osx-arm64\n",
      "  - https://repo.anaconda.com/pkgs/r/noarch\n",
      "  - https://conda.anaconda.org/sorki/osx-arm64\n",
      "  - https://conda.anaconda.org/sorki/noarch\n",
      "\n",
      "To search for alternate channels that may provide the conda package you're\n",
      "looking for, navigate to\n",
      "\n",
      "    https://anaconda.org\n",
      "\n",
      "and use the search bar at the top of the page.\n",
      "\n",
      "\n"
     ]
    }
   ],
   "source": [
    "!conda install -c conda-forge gdcm"
   ]
  },
  {
   "cell_type": "code",
   "execution_count": 18,
   "id": "db17e09e",
   "metadata": {},
   "outputs": [
    {
     "ename": "RuntimeError",
     "evalue": "The following handlers are available to decode the pixel data however they are missing required dependencies: GDCM (req. GDCM), pylibjpeg (req. )",
     "output_type": "error",
     "traceback": [
      "\u001b[0;31m---------------------------------------------------------------------------\u001b[0m",
      "\u001b[0;31mRuntimeError\u001b[0m                              Traceback (most recent call last)",
      "Input \u001b[0;32mIn [18]\u001b[0m, in \u001b[0;36m<cell line: 15>\u001b[0;34m()\u001b[0m\n\u001b[1;32m     11\u001b[0m filename \u001b[38;5;241m=\u001b[39m pydicom\u001b[38;5;241m.\u001b[39mdata\u001b[38;5;241m.\u001b[39mdata_manager\u001b[38;5;241m.\u001b[39mget_files(base, pass_dicom)[\u001b[38;5;241m0\u001b[39m]\n\u001b[1;32m     13\u001b[0m ds \u001b[38;5;241m=\u001b[39m pydicom\u001b[38;5;241m.\u001b[39mdcmread(filename)\n\u001b[0;32m---> 15\u001b[0m plt\u001b[38;5;241m.\u001b[39mimshow(\u001b[43mds\u001b[49m\u001b[38;5;241;43m.\u001b[39;49m\u001b[43mpixel_array\u001b[49m, cmap\u001b[38;5;241m=\u001b[39mplt\u001b[38;5;241m.\u001b[39mcm\u001b[38;5;241m.\u001b[39mbone) \u001b[38;5;66;03m# set the color map to bone\u001b[39;00m\n\u001b[1;32m     16\u001b[0m plt\u001b[38;5;241m.\u001b[39mshow()\n",
      "File \u001b[0;32m/opt/homebrew/anaconda3/lib/python3.9/site-packages/pydicom/dataset.py:1887\u001b[0m, in \u001b[0;36mDataset.pixel_array\u001b[0;34m(self)\u001b[0m\n\u001b[1;32m   1872\u001b[0m \u001b[38;5;129m@property\u001b[39m\n\u001b[1;32m   1873\u001b[0m \u001b[38;5;28;01mdef\u001b[39;00m \u001b[38;5;21mpixel_array\u001b[39m(\u001b[38;5;28mself\u001b[39m) \u001b[38;5;241m-\u001b[39m\u001b[38;5;241m>\u001b[39m \u001b[38;5;124m\"\u001b[39m\u001b[38;5;124mnumpy.ndarray\u001b[39m\u001b[38;5;124m\"\u001b[39m:\n\u001b[1;32m   1874\u001b[0m     \u001b[38;5;124;03m\"\"\"Return the pixel data as a :class:`numpy.ndarray`.\u001b[39;00m\n\u001b[1;32m   1875\u001b[0m \n\u001b[1;32m   1876\u001b[0m \u001b[38;5;124;03m    .. versionchanged:: 1.4\u001b[39;00m\n\u001b[0;32m   (...)\u001b[0m\n\u001b[1;32m   1885\u001b[0m \u001b[38;5;124;03m        :class:`numpy.ndarray`.\u001b[39;00m\n\u001b[1;32m   1886\u001b[0m \u001b[38;5;124;03m    \"\"\"\u001b[39;00m\n\u001b[0;32m-> 1887\u001b[0m     \u001b[38;5;28;43mself\u001b[39;49m\u001b[38;5;241;43m.\u001b[39;49m\u001b[43mconvert_pixel_data\u001b[49m\u001b[43m(\u001b[49m\u001b[43m)\u001b[49m\n\u001b[1;32m   1888\u001b[0m     \u001b[38;5;28;01mreturn\u001b[39;00m cast(\u001b[38;5;124m\"\u001b[39m\u001b[38;5;124mnumpy.ndarray\u001b[39m\u001b[38;5;124m\"\u001b[39m, \u001b[38;5;28mself\u001b[39m\u001b[38;5;241m.\u001b[39m_pixel_array)\n",
      "File \u001b[0;32m/opt/homebrew/anaconda3/lib/python3.9/site-packages/pydicom/dataset.py:1444\u001b[0m, in \u001b[0;36mDataset.convert_pixel_data\u001b[0;34m(self, handler_name)\u001b[0m\n\u001b[1;32m   1442\u001b[0m     \u001b[38;5;28mself\u001b[39m\u001b[38;5;241m.\u001b[39m_convert_pixel_data_using_handler(handler_name)\n\u001b[1;32m   1443\u001b[0m \u001b[38;5;28;01melse\u001b[39;00m:\n\u001b[0;32m-> 1444\u001b[0m     \u001b[38;5;28;43mself\u001b[39;49m\u001b[38;5;241;43m.\u001b[39;49m\u001b[43m_convert_pixel_data_without_handler\u001b[49m\u001b[43m(\u001b[49m\u001b[43m)\u001b[49m\n",
      "File \u001b[0;32m/opt/homebrew/anaconda3/lib/python3.9/site-packages/pydicom/dataset.py:1531\u001b[0m, in \u001b[0;36mDataset._convert_pixel_data_without_handler\u001b[0;34m(self)\u001b[0m\n\u001b[1;32m   1525\u001b[0m         names \u001b[38;5;241m=\u001b[39m [hh_deps[name][\u001b[38;5;241m1\u001b[39m] \u001b[38;5;28;01mfor\u001b[39;00m name \u001b[38;5;129;01min\u001b[39;00m missing]\n\u001b[1;32m   1526\u001b[0m         pkg_msg\u001b[38;5;241m.\u001b[39mappend(\n\u001b[1;32m   1527\u001b[0m             \u001b[38;5;124mf\u001b[39m\u001b[38;5;124m\"\u001b[39m\u001b[38;5;132;01m{\u001b[39;00mhh\u001b[38;5;241m.\u001b[39mHANDLER_NAME\u001b[38;5;132;01m}\u001b[39;00m\u001b[38;5;124m \u001b[39m\u001b[38;5;124m\"\u001b[39m\n\u001b[1;32m   1528\u001b[0m             \u001b[38;5;124mf\u001b[39m\u001b[38;5;124m\"\u001b[39m\u001b[38;5;124m(req. \u001b[39m\u001b[38;5;132;01m{\u001b[39;00m\u001b[38;5;124m'\u001b[39m\u001b[38;5;124m, \u001b[39m\u001b[38;5;124m'\u001b[39m\u001b[38;5;241m.\u001b[39mjoin(names)\u001b[38;5;132;01m}\u001b[39;00m\u001b[38;5;124m)\u001b[39m\u001b[38;5;124m\"\u001b[39m\n\u001b[1;32m   1529\u001b[0m         )\n\u001b[0;32m-> 1531\u001b[0m     \u001b[38;5;28;01mraise\u001b[39;00m \u001b[38;5;167;01mRuntimeError\u001b[39;00m(msg \u001b[38;5;241m+\u001b[39m \u001b[38;5;124m'\u001b[39m\u001b[38;5;124m, \u001b[39m\u001b[38;5;124m'\u001b[39m\u001b[38;5;241m.\u001b[39mjoin(pkg_msg))\n\u001b[1;32m   1533\u001b[0m last_exception \u001b[38;5;241m=\u001b[39m \u001b[38;5;28;01mNone\u001b[39;00m\n\u001b[1;32m   1534\u001b[0m \u001b[38;5;28;01mfor\u001b[39;00m handler \u001b[38;5;129;01min\u001b[39;00m available_handlers:\n",
      "\u001b[0;31mRuntimeError\u001b[0m: The following handlers are available to decode the pixel data however they are missing required dependencies: GDCM (req. GDCM), pylibjpeg (req. )"
     ]
    }
   ],
   "source": [
    "import matplotlib.pyplot as plt\n",
    "import pydicom\n",
    "import pydicom.data\n",
    "\n",
    "# Full path of the DICOM file is passed in base\n",
    "base = \"./\"\n",
    "pass_dicom = \"img4.dcm\" # file name is 1-12.dcm\n",
    "\n",
    "# enter DICOM image name for pattern\n",
    "# result is a list of 1 element\n",
    "filename = pydicom.data.data_manager.get_files(base, pass_dicom)[0]\n",
    "\n",
    "ds = pydicom.dcmread(filename)\n",
    "\n",
    "plt.imshow(ds.pixel_array, cmap=plt.cm.bone) # set the color map to bone\n",
    "plt.show()"
   ]
  },
  {
   "cell_type": "code",
   "execution_count": 15,
   "id": "7db85d5c",
   "metadata": {},
   "outputs": [
    {
     "name": "stdout",
     "output_type": "stream",
     "text": [
      "LICENSE.txt    \u001b[34mcondabin\u001b[m\u001b[m       \u001b[34minclude\u001b[m\u001b[m        \u001b[34mpkgs\u001b[m\u001b[m           \u001b[34mshare\u001b[m\u001b[m\r\n",
      "Untitled.ipynb \u001b[34menvs\u001b[m\u001b[m           \u001b[34mlib\u001b[m\u001b[m            pyodbc.pyi     \u001b[34mshell\u001b[m\u001b[m\r\n",
      "\u001b[34mbin\u001b[m\u001b[m            \u001b[34metc\u001b[m\u001b[m            \u001b[34mlibexec\u001b[m\u001b[m        \u001b[34mpython.app\u001b[m\u001b[m     site.cfg\r\n",
      "\u001b[34mconda-meta\u001b[m\u001b[m     img4.dcm       \u001b[34mman\u001b[m\u001b[m            \u001b[34msbin\u001b[m\u001b[m           \u001b[34mssl\u001b[m\u001b[m\r\n"
     ]
    }
   ],
   "source": [
    "!ls"
   ]
  },
  {
   "cell_type": "code",
   "execution_count": 20,
   "id": "2663d56f",
   "metadata": {},
   "outputs": [
    {
     "name": "stdout",
     "output_type": "stream",
     "text": [
      "Collecting package metadata (current_repodata.json): done\n",
      "Solving environment: done\n",
      "\n",
      "# All requested packages already installed.\n",
      "\n"
     ]
    }
   ],
   "source": [
    "!conda install numpy"
   ]
  },
  {
   "cell_type": "code",
   "execution_count": null,
   "id": "9b87ff35",
   "metadata": {},
   "outputs": [],
   "source": []
  }
 ],
 "metadata": {
  "kernelspec": {
   "display_name": "Python 3 (ipykernel)",
   "language": "python",
   "name": "python3"
  },
  "language_info": {
   "codemirror_mode": {
    "name": "ipython",
    "version": 3
   },
   "file_extension": ".py",
   "mimetype": "text/x-python",
   "name": "python",
   "nbconvert_exporter": "python",
   "pygments_lexer": "ipython3",
   "version": "3.9.12"
  }
 },
 "nbformat": 4,
 "nbformat_minor": 5
}
